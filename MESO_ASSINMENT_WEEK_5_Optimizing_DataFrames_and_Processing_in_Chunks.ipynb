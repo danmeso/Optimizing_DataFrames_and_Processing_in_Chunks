{
  "cells": [
    {
      "cell_type": "markdown",
      "metadata": {
        "id": "y7eHGTSKv8TW"
      },
      "source": [
        "# Project Notebook: Optimizing DataFrames and Processing in Chunks"
      ]
    },
    {
      "cell_type": "markdown",
      "metadata": {
        "id": "ZJ7UJlKnwJk3"
      },
      "source": [
        "## 1. Introduction "
      ]
    },
    {
      "cell_type": "markdown",
      "metadata": {
        "id": "UUyK3GcBv9mC"
      },
      "source": [
        "In this project, we'll practice working with chunked dataframes and optimizing a dataframe's memory usage. We'll be working with financial lending data from Lending Club, a marketplace for personal loans that matches borrowers with investors. You can read more about the marketplace on its website.\n",
        "\n",
        "The Lending Club's website lists approved loans. Qualified investors can view the borrower's credit score, the purpose of the loan, and other details in the loan applications. Once a lender is ready to back a loan, it selects the amount of money it wants to fund. When the loan amount the borrower requested is fully funded, the borrower receives the money, minus the origination fee that Lending Club charges.\n",
        "\n",
        "We'll be working with a dataset of loans approved from 2007-2011 (https://bit.ly/3H2XVgC). We've already removed the desc column for you to make our system run more quickly.\n",
        "\n",
        "If we read in the entire data set, it will consume about 67 megabytes of memory. Let's imagine that we only have 10 megabytes of memory available throughout this project, so you can practice the concepts you learned in the last two lessons.\n",
        "\n",
        "**Tasks**\n",
        "\n",
        "1. Read in the first five lines from `loans_2007.csv` (https://bit.ly/3H2XVgC) and look for any data quality issues.\n",
        "\n",
        "2. Read in the first 1000 rows from the data set, and calculate the total memory usage for these rows. Increase or decrease the number of rows to converge on a memory usage under five megabytes (to stay on the conservative side)."
      ]
    },
    {
      "cell_type": "code",
      "execution_count": 14,
      "metadata": {
        "colab": {
          "base_uri": "https://localhost:8080/",
          "height": 443
        },
        "id": "Kc9NLSZ5vXPM",
        "outputId": "f49824c4-48cd-4671-8ccc-68c560f4fd72"
      },
      "outputs": [
        {
          "output_type": "stream",
          "name": "stderr",
          "text": [
            "/usr/local/lib/python3.8/dist-packages/IPython/core/interactiveshell.py:3326: DtypeWarning: Columns (0) have mixed types.Specify dtype option on import or set low_memory=False.\n",
            "  exec(code_obj, self.user_global_ns, self.user_ns)\n"
          ]
        },
        {
          "output_type": "execute_result",
          "data": {
            "text/plain": [
              "        id  member_id  loan_amnt  funded_amnt  funded_amnt_inv        term  \\\n",
              "0  1077501  1296599.0     5000.0       5000.0           4975.0   36 months   \n",
              "1  1077430  1314167.0     2500.0       2500.0           2500.0   60 months   \n",
              "2  1077175  1313524.0     2400.0       2400.0           2400.0   36 months   \n",
              "3  1076863  1277178.0    10000.0      10000.0          10000.0   36 months   \n",
              "4  1075358  1311748.0     3000.0       3000.0           3000.0   60 months   \n",
              "\n",
              "  int_rate  installment grade sub_grade                 emp_title emp_length  \\\n",
              "0   10.65%       162.87     B        B2                       NaN  10+ years   \n",
              "1   15.27%        59.83     C        C4                     Ryder   < 1 year   \n",
              "2   15.96%        84.33     C        C5                       NaN  10+ years   \n",
              "3   13.49%       339.31     C        C1       AIR RESOURCES BOARD  10+ years   \n",
              "4   12.69%        67.79     B        B5  University Medical Group     1 year   \n",
              "\n",
              "  home_ownership  annual_inc verification_status   issue_d  loan_status  \\\n",
              "0           RENT     24000.0            Verified  Dec-2011   Fully Paid   \n",
              "1           RENT     30000.0     Source Verified  Dec-2011  Charged Off   \n",
              "2           RENT     12252.0        Not Verified  Dec-2011   Fully Paid   \n",
              "3           RENT     49200.0     Source Verified  Dec-2011   Fully Paid   \n",
              "4           RENT     80000.0     Source Verified  Dec-2011      Current   \n",
              "\n",
              "  pymnt_plan         purpose                 title zip_code addr_state    dti  \\\n",
              "0          n     credit_card              Computer    860xx         AZ  27.65   \n",
              "1          n             car                  bike    309xx         GA   1.00   \n",
              "2          n  small_business  real estate business    606xx         IL   8.72   \n",
              "3          n           other              personel    917xx         CA  20.00   \n",
              "4          n           other              Personal    972xx         OR  17.94   \n",
              "\n",
              "   delinq_2yrs earliest_cr_line  inq_last_6mths  open_acc  pub_rec  revol_bal  \\\n",
              "0          0.0         Jan-1985             1.0       3.0      0.0    13648.0   \n",
              "1          0.0         Apr-1999             5.0       3.0      0.0     1687.0   \n",
              "2          0.0         Nov-2001             2.0       2.0      0.0     2956.0   \n",
              "3          0.0         Feb-1996             1.0      10.0      0.0     5598.0   \n",
              "4          0.0         Jan-1996             0.0      15.0      0.0    27783.0   \n",
              "\n",
              "  revol_util  total_acc initial_list_status  out_prncp  out_prncp_inv  \\\n",
              "0      83.7%        9.0                   f       0.00           0.00   \n",
              "1       9.4%        4.0                   f       0.00           0.00   \n",
              "2      98.5%       10.0                   f       0.00           0.00   \n",
              "3        21%       37.0                   f       0.00           0.00   \n",
              "4      53.9%       38.0                   f     461.73         461.73   \n",
              "\n",
              "    total_pymnt  total_pymnt_inv  total_rec_prncp  total_rec_int  \\\n",
              "0   5863.155187          5833.84          5000.00         863.16   \n",
              "1   1008.710000          1008.71           456.46         435.17   \n",
              "2   3005.666844          3005.67          2400.00         605.67   \n",
              "3  12231.890000         12231.89         10000.00        2214.92   \n",
              "4   3581.120000          3581.12          2538.27        1042.85   \n",
              "\n",
              "   total_rec_late_fee  recoveries  collection_recovery_fee last_pymnt_d  \\\n",
              "0                0.00        0.00                     0.00     Jan-2015   \n",
              "1                0.00      117.08                     1.11     Apr-2013   \n",
              "2                0.00        0.00                     0.00     Jun-2014   \n",
              "3               16.97        0.00                     0.00     Jan-2015   \n",
              "4                0.00        0.00                     0.00     Jun-2016   \n",
              "\n",
              "   last_pymnt_amnt last_credit_pull_d  collections_12_mths_ex_med  \\\n",
              "0           171.62           Jun-2016                         0.0   \n",
              "1           119.66           Sep-2013                         0.0   \n",
              "2           649.91           Jun-2016                         0.0   \n",
              "3           357.48           Apr-2016                         0.0   \n",
              "4            67.79           Jun-2016                         0.0   \n",
              "\n",
              "   policy_code application_type  acc_now_delinq  chargeoff_within_12_mths  \\\n",
              "0          1.0       INDIVIDUAL             0.0                       0.0   \n",
              "1          1.0       INDIVIDUAL             0.0                       0.0   \n",
              "2          1.0       INDIVIDUAL             0.0                       0.0   \n",
              "3          1.0       INDIVIDUAL             0.0                       0.0   \n",
              "4          1.0       INDIVIDUAL             0.0                       0.0   \n",
              "\n",
              "   delinq_amnt  pub_rec_bankruptcies  tax_liens  \n",
              "0          0.0                   0.0        0.0  \n",
              "1          0.0                   0.0        0.0  \n",
              "2          0.0                   0.0        0.0  \n",
              "3          0.0                   0.0        0.0  \n",
              "4          0.0                   0.0        0.0  "
            ],
            "text/html": [
              "\n",
              "  <div id=\"df-7fd93dc4-e0e6-43f3-a478-fc016fd1e251\">\n",
              "    <div class=\"colab-df-container\">\n",
              "      <div>\n",
              "<style scoped>\n",
              "    .dataframe tbody tr th:only-of-type {\n",
              "        vertical-align: middle;\n",
              "    }\n",
              "\n",
              "    .dataframe tbody tr th {\n",
              "        vertical-align: top;\n",
              "    }\n",
              "\n",
              "    .dataframe thead th {\n",
              "        text-align: right;\n",
              "    }\n",
              "</style>\n",
              "<table border=\"1\" class=\"dataframe\">\n",
              "  <thead>\n",
              "    <tr style=\"text-align: right;\">\n",
              "      <th></th>\n",
              "      <th>id</th>\n",
              "      <th>member_id</th>\n",
              "      <th>loan_amnt</th>\n",
              "      <th>funded_amnt</th>\n",
              "      <th>funded_amnt_inv</th>\n",
              "      <th>term</th>\n",
              "      <th>int_rate</th>\n",
              "      <th>installment</th>\n",
              "      <th>grade</th>\n",
              "      <th>sub_grade</th>\n",
              "      <th>emp_title</th>\n",
              "      <th>emp_length</th>\n",
              "      <th>home_ownership</th>\n",
              "      <th>annual_inc</th>\n",
              "      <th>verification_status</th>\n",
              "      <th>issue_d</th>\n",
              "      <th>loan_status</th>\n",
              "      <th>pymnt_plan</th>\n",
              "      <th>purpose</th>\n",
              "      <th>title</th>\n",
              "      <th>zip_code</th>\n",
              "      <th>addr_state</th>\n",
              "      <th>dti</th>\n",
              "      <th>delinq_2yrs</th>\n",
              "      <th>earliest_cr_line</th>\n",
              "      <th>inq_last_6mths</th>\n",
              "      <th>open_acc</th>\n",
              "      <th>pub_rec</th>\n",
              "      <th>revol_bal</th>\n",
              "      <th>revol_util</th>\n",
              "      <th>total_acc</th>\n",
              "      <th>initial_list_status</th>\n",
              "      <th>out_prncp</th>\n",
              "      <th>out_prncp_inv</th>\n",
              "      <th>total_pymnt</th>\n",
              "      <th>total_pymnt_inv</th>\n",
              "      <th>total_rec_prncp</th>\n",
              "      <th>total_rec_int</th>\n",
              "      <th>total_rec_late_fee</th>\n",
              "      <th>recoveries</th>\n",
              "      <th>collection_recovery_fee</th>\n",
              "      <th>last_pymnt_d</th>\n",
              "      <th>last_pymnt_amnt</th>\n",
              "      <th>last_credit_pull_d</th>\n",
              "      <th>collections_12_mths_ex_med</th>\n",
              "      <th>policy_code</th>\n",
              "      <th>application_type</th>\n",
              "      <th>acc_now_delinq</th>\n",
              "      <th>chargeoff_within_12_mths</th>\n",
              "      <th>delinq_amnt</th>\n",
              "      <th>pub_rec_bankruptcies</th>\n",
              "      <th>tax_liens</th>\n",
              "    </tr>\n",
              "  </thead>\n",
              "  <tbody>\n",
              "    <tr>\n",
              "      <th>0</th>\n",
              "      <td>1077501</td>\n",
              "      <td>1296599.0</td>\n",
              "      <td>5000.0</td>\n",
              "      <td>5000.0</td>\n",
              "      <td>4975.0</td>\n",
              "      <td>36 months</td>\n",
              "      <td>10.65%</td>\n",
              "      <td>162.87</td>\n",
              "      <td>B</td>\n",
              "      <td>B2</td>\n",
              "      <td>NaN</td>\n",
              "      <td>10+ years</td>\n",
              "      <td>RENT</td>\n",
              "      <td>24000.0</td>\n",
              "      <td>Verified</td>\n",
              "      <td>Dec-2011</td>\n",
              "      <td>Fully Paid</td>\n",
              "      <td>n</td>\n",
              "      <td>credit_card</td>\n",
              "      <td>Computer</td>\n",
              "      <td>860xx</td>\n",
              "      <td>AZ</td>\n",
              "      <td>27.65</td>\n",
              "      <td>0.0</td>\n",
              "      <td>Jan-1985</td>\n",
              "      <td>1.0</td>\n",
              "      <td>3.0</td>\n",
              "      <td>0.0</td>\n",
              "      <td>13648.0</td>\n",
              "      <td>83.7%</td>\n",
              "      <td>9.0</td>\n",
              "      <td>f</td>\n",
              "      <td>0.00</td>\n",
              "      <td>0.00</td>\n",
              "      <td>5863.155187</td>\n",
              "      <td>5833.84</td>\n",
              "      <td>5000.00</td>\n",
              "      <td>863.16</td>\n",
              "      <td>0.00</td>\n",
              "      <td>0.00</td>\n",
              "      <td>0.00</td>\n",
              "      <td>Jan-2015</td>\n",
              "      <td>171.62</td>\n",
              "      <td>Jun-2016</td>\n",
              "      <td>0.0</td>\n",
              "      <td>1.0</td>\n",
              "      <td>INDIVIDUAL</td>\n",
              "      <td>0.0</td>\n",
              "      <td>0.0</td>\n",
              "      <td>0.0</td>\n",
              "      <td>0.0</td>\n",
              "      <td>0.0</td>\n",
              "    </tr>\n",
              "    <tr>\n",
              "      <th>1</th>\n",
              "      <td>1077430</td>\n",
              "      <td>1314167.0</td>\n",
              "      <td>2500.0</td>\n",
              "      <td>2500.0</td>\n",
              "      <td>2500.0</td>\n",
              "      <td>60 months</td>\n",
              "      <td>15.27%</td>\n",
              "      <td>59.83</td>\n",
              "      <td>C</td>\n",
              "      <td>C4</td>\n",
              "      <td>Ryder</td>\n",
              "      <td>&lt; 1 year</td>\n",
              "      <td>RENT</td>\n",
              "      <td>30000.0</td>\n",
              "      <td>Source Verified</td>\n",
              "      <td>Dec-2011</td>\n",
              "      <td>Charged Off</td>\n",
              "      <td>n</td>\n",
              "      <td>car</td>\n",
              "      <td>bike</td>\n",
              "      <td>309xx</td>\n",
              "      <td>GA</td>\n",
              "      <td>1.00</td>\n",
              "      <td>0.0</td>\n",
              "      <td>Apr-1999</td>\n",
              "      <td>5.0</td>\n",
              "      <td>3.0</td>\n",
              "      <td>0.0</td>\n",
              "      <td>1687.0</td>\n",
              "      <td>9.4%</td>\n",
              "      <td>4.0</td>\n",
              "      <td>f</td>\n",
              "      <td>0.00</td>\n",
              "      <td>0.00</td>\n",
              "      <td>1008.710000</td>\n",
              "      <td>1008.71</td>\n",
              "      <td>456.46</td>\n",
              "      <td>435.17</td>\n",
              "      <td>0.00</td>\n",
              "      <td>117.08</td>\n",
              "      <td>1.11</td>\n",
              "      <td>Apr-2013</td>\n",
              "      <td>119.66</td>\n",
              "      <td>Sep-2013</td>\n",
              "      <td>0.0</td>\n",
              "      <td>1.0</td>\n",
              "      <td>INDIVIDUAL</td>\n",
              "      <td>0.0</td>\n",
              "      <td>0.0</td>\n",
              "      <td>0.0</td>\n",
              "      <td>0.0</td>\n",
              "      <td>0.0</td>\n",
              "    </tr>\n",
              "    <tr>\n",
              "      <th>2</th>\n",
              "      <td>1077175</td>\n",
              "      <td>1313524.0</td>\n",
              "      <td>2400.0</td>\n",
              "      <td>2400.0</td>\n",
              "      <td>2400.0</td>\n",
              "      <td>36 months</td>\n",
              "      <td>15.96%</td>\n",
              "      <td>84.33</td>\n",
              "      <td>C</td>\n",
              "      <td>C5</td>\n",
              "      <td>NaN</td>\n",
              "      <td>10+ years</td>\n",
              "      <td>RENT</td>\n",
              "      <td>12252.0</td>\n",
              "      <td>Not Verified</td>\n",
              "      <td>Dec-2011</td>\n",
              "      <td>Fully Paid</td>\n",
              "      <td>n</td>\n",
              "      <td>small_business</td>\n",
              "      <td>real estate business</td>\n",
              "      <td>606xx</td>\n",
              "      <td>IL</td>\n",
              "      <td>8.72</td>\n",
              "      <td>0.0</td>\n",
              "      <td>Nov-2001</td>\n",
              "      <td>2.0</td>\n",
              "      <td>2.0</td>\n",
              "      <td>0.0</td>\n",
              "      <td>2956.0</td>\n",
              "      <td>98.5%</td>\n",
              "      <td>10.0</td>\n",
              "      <td>f</td>\n",
              "      <td>0.00</td>\n",
              "      <td>0.00</td>\n",
              "      <td>3005.666844</td>\n",
              "      <td>3005.67</td>\n",
              "      <td>2400.00</td>\n",
              "      <td>605.67</td>\n",
              "      <td>0.00</td>\n",
              "      <td>0.00</td>\n",
              "      <td>0.00</td>\n",
              "      <td>Jun-2014</td>\n",
              "      <td>649.91</td>\n",
              "      <td>Jun-2016</td>\n",
              "      <td>0.0</td>\n",
              "      <td>1.0</td>\n",
              "      <td>INDIVIDUAL</td>\n",
              "      <td>0.0</td>\n",
              "      <td>0.0</td>\n",
              "      <td>0.0</td>\n",
              "      <td>0.0</td>\n",
              "      <td>0.0</td>\n",
              "    </tr>\n",
              "    <tr>\n",
              "      <th>3</th>\n",
              "      <td>1076863</td>\n",
              "      <td>1277178.0</td>\n",
              "      <td>10000.0</td>\n",
              "      <td>10000.0</td>\n",
              "      <td>10000.0</td>\n",
              "      <td>36 months</td>\n",
              "      <td>13.49%</td>\n",
              "      <td>339.31</td>\n",
              "      <td>C</td>\n",
              "      <td>C1</td>\n",
              "      <td>AIR RESOURCES BOARD</td>\n",
              "      <td>10+ years</td>\n",
              "      <td>RENT</td>\n",
              "      <td>49200.0</td>\n",
              "      <td>Source Verified</td>\n",
              "      <td>Dec-2011</td>\n",
              "      <td>Fully Paid</td>\n",
              "      <td>n</td>\n",
              "      <td>other</td>\n",
              "      <td>personel</td>\n",
              "      <td>917xx</td>\n",
              "      <td>CA</td>\n",
              "      <td>20.00</td>\n",
              "      <td>0.0</td>\n",
              "      <td>Feb-1996</td>\n",
              "      <td>1.0</td>\n",
              "      <td>10.0</td>\n",
              "      <td>0.0</td>\n",
              "      <td>5598.0</td>\n",
              "      <td>21%</td>\n",
              "      <td>37.0</td>\n",
              "      <td>f</td>\n",
              "      <td>0.00</td>\n",
              "      <td>0.00</td>\n",
              "      <td>12231.890000</td>\n",
              "      <td>12231.89</td>\n",
              "      <td>10000.00</td>\n",
              "      <td>2214.92</td>\n",
              "      <td>16.97</td>\n",
              "      <td>0.00</td>\n",
              "      <td>0.00</td>\n",
              "      <td>Jan-2015</td>\n",
              "      <td>357.48</td>\n",
              "      <td>Apr-2016</td>\n",
              "      <td>0.0</td>\n",
              "      <td>1.0</td>\n",
              "      <td>INDIVIDUAL</td>\n",
              "      <td>0.0</td>\n",
              "      <td>0.0</td>\n",
              "      <td>0.0</td>\n",
              "      <td>0.0</td>\n",
              "      <td>0.0</td>\n",
              "    </tr>\n",
              "    <tr>\n",
              "      <th>4</th>\n",
              "      <td>1075358</td>\n",
              "      <td>1311748.0</td>\n",
              "      <td>3000.0</td>\n",
              "      <td>3000.0</td>\n",
              "      <td>3000.0</td>\n",
              "      <td>60 months</td>\n",
              "      <td>12.69%</td>\n",
              "      <td>67.79</td>\n",
              "      <td>B</td>\n",
              "      <td>B5</td>\n",
              "      <td>University Medical Group</td>\n",
              "      <td>1 year</td>\n",
              "      <td>RENT</td>\n",
              "      <td>80000.0</td>\n",
              "      <td>Source Verified</td>\n",
              "      <td>Dec-2011</td>\n",
              "      <td>Current</td>\n",
              "      <td>n</td>\n",
              "      <td>other</td>\n",
              "      <td>Personal</td>\n",
              "      <td>972xx</td>\n",
              "      <td>OR</td>\n",
              "      <td>17.94</td>\n",
              "      <td>0.0</td>\n",
              "      <td>Jan-1996</td>\n",
              "      <td>0.0</td>\n",
              "      <td>15.0</td>\n",
              "      <td>0.0</td>\n",
              "      <td>27783.0</td>\n",
              "      <td>53.9%</td>\n",
              "      <td>38.0</td>\n",
              "      <td>f</td>\n",
              "      <td>461.73</td>\n",
              "      <td>461.73</td>\n",
              "      <td>3581.120000</td>\n",
              "      <td>3581.12</td>\n",
              "      <td>2538.27</td>\n",
              "      <td>1042.85</td>\n",
              "      <td>0.00</td>\n",
              "      <td>0.00</td>\n",
              "      <td>0.00</td>\n",
              "      <td>Jun-2016</td>\n",
              "      <td>67.79</td>\n",
              "      <td>Jun-2016</td>\n",
              "      <td>0.0</td>\n",
              "      <td>1.0</td>\n",
              "      <td>INDIVIDUAL</td>\n",
              "      <td>0.0</td>\n",
              "      <td>0.0</td>\n",
              "      <td>0.0</td>\n",
              "      <td>0.0</td>\n",
              "      <td>0.0</td>\n",
              "    </tr>\n",
              "  </tbody>\n",
              "</table>\n",
              "</div>\n",
              "      <button class=\"colab-df-convert\" onclick=\"convertToInteractive('df-7fd93dc4-e0e6-43f3-a478-fc016fd1e251')\"\n",
              "              title=\"Convert this dataframe to an interactive table.\"\n",
              "              style=\"display:none;\">\n",
              "        \n",
              "  <svg xmlns=\"http://www.w3.org/2000/svg\" height=\"24px\"viewBox=\"0 0 24 24\"\n",
              "       width=\"24px\">\n",
              "    <path d=\"M0 0h24v24H0V0z\" fill=\"none\"/>\n",
              "    <path d=\"M18.56 5.44l.94 2.06.94-2.06 2.06-.94-2.06-.94-.94-2.06-.94 2.06-2.06.94zm-11 1L8.5 8.5l.94-2.06 2.06-.94-2.06-.94L8.5 2.5l-.94 2.06-2.06.94zm10 10l.94 2.06.94-2.06 2.06-.94-2.06-.94-.94-2.06-.94 2.06-2.06.94z\"/><path d=\"M17.41 7.96l-1.37-1.37c-.4-.4-.92-.59-1.43-.59-.52 0-1.04.2-1.43.59L10.3 9.45l-7.72 7.72c-.78.78-.78 2.05 0 2.83L4 21.41c.39.39.9.59 1.41.59.51 0 1.02-.2 1.41-.59l7.78-7.78 2.81-2.81c.8-.78.8-2.07 0-2.86zM5.41 20L4 18.59l7.72-7.72 1.47 1.35L5.41 20z\"/>\n",
              "  </svg>\n",
              "      </button>\n",
              "      \n",
              "  <style>\n",
              "    .colab-df-container {\n",
              "      display:flex;\n",
              "      flex-wrap:wrap;\n",
              "      gap: 12px;\n",
              "    }\n",
              "\n",
              "    .colab-df-convert {\n",
              "      background-color: #E8F0FE;\n",
              "      border: none;\n",
              "      border-radius: 50%;\n",
              "      cursor: pointer;\n",
              "      display: none;\n",
              "      fill: #1967D2;\n",
              "      height: 32px;\n",
              "      padding: 0 0 0 0;\n",
              "      width: 32px;\n",
              "    }\n",
              "\n",
              "    .colab-df-convert:hover {\n",
              "      background-color: #E2EBFA;\n",
              "      box-shadow: 0px 1px 2px rgba(60, 64, 67, 0.3), 0px 1px 3px 1px rgba(60, 64, 67, 0.15);\n",
              "      fill: #174EA6;\n",
              "    }\n",
              "\n",
              "    [theme=dark] .colab-df-convert {\n",
              "      background-color: #3B4455;\n",
              "      fill: #D2E3FC;\n",
              "    }\n",
              "\n",
              "    [theme=dark] .colab-df-convert:hover {\n",
              "      background-color: #434B5C;\n",
              "      box-shadow: 0px 1px 3px 1px rgba(0, 0, 0, 0.15);\n",
              "      filter: drop-shadow(0px 1px 2px rgba(0, 0, 0, 0.3));\n",
              "      fill: #FFFFFF;\n",
              "    }\n",
              "  </style>\n",
              "\n",
              "      <script>\n",
              "        const buttonEl =\n",
              "          document.querySelector('#df-7fd93dc4-e0e6-43f3-a478-fc016fd1e251 button.colab-df-convert');\n",
              "        buttonEl.style.display =\n",
              "          google.colab.kernel.accessAllowed ? 'block' : 'none';\n",
              "\n",
              "        async function convertToInteractive(key) {\n",
              "          const element = document.querySelector('#df-7fd93dc4-e0e6-43f3-a478-fc016fd1e251');\n",
              "          const dataTable =\n",
              "            await google.colab.kernel.invokeFunction('convertToInteractive',\n",
              "                                                     [key], {});\n",
              "          if (!dataTable) return;\n",
              "\n",
              "          const docLinkHtml = 'Like what you see? Visit the ' +\n",
              "            '<a target=\"_blank\" href=https://colab.research.google.com/notebooks/data_table.ipynb>data table notebook</a>'\n",
              "            + ' to learn more about interactive tables.';\n",
              "          element.innerHTML = '';\n",
              "          dataTable['output_type'] = 'display_data';\n",
              "          await google.colab.output.renderOutput(dataTable, element);\n",
              "          const docLink = document.createElement('div');\n",
              "          docLink.innerHTML = docLinkHtml;\n",
              "          element.appendChild(docLink);\n",
              "        }\n",
              "      </script>\n",
              "    </div>\n",
              "  </div>\n",
              "  "
            ]
          },
          "metadata": {},
          "execution_count": 14
        }
      ],
      "source": [
        "# Importing pandas\n",
        "import pandas as pd\n",
        "pd.options.display.max_columns = 99\n",
        "\n",
        "# Your code goes here\n",
        "loans_pd = pd.read_csv(\"https://bit.ly/3H2XVgC\")\n",
        "loans_pd.head()\n"
      ]
    },
    {
      "cell_type": "code",
      "execution_count": 15,
      "metadata": {
        "colab": {
          "base_uri": "https://localhost:8080/"
        },
        "id": "ADmk7sLSCpH_",
        "outputId": "3460d0f5-2514-4e3b-a726-0438e8001182"
      },
      "outputs": [
        {
          "output_type": "stream",
          "name": "stdout",
          "text": [
            "memory usage is  1.5273666381835938\n"
          ]
        }
      ],
      "source": [
        "loans_pd = pd.read_csv(\"https://bit.ly/3H2XVgC\", nrows=1000)\n",
        "print(\"memory usage is \",(loans_pd.memory_usage(deep=True).sum()/(1024*1024)))"
      ]
    },
    {
      "cell_type": "markdown",
      "metadata": {
        "id": "5Pphj03PyLFR"
      },
      "source": [
        "increasing chunk"
      ]
    },
    {
      "cell_type": "code",
      "execution_count": 16,
      "metadata": {
        "colab": {
          "base_uri": "https://localhost:8080/"
        },
        "id": "X4CtGb2uXQU2",
        "outputId": "3a360486-79df-45cd-b2ff-34c838fbd19b"
      },
      "outputs": [
        {
          "output_type": "stream",
          "name": "stdout",
          "text": [
            "near 5MB no or rows is  3200\n",
            "memory 5.038409233093262\n"
          ]
        }
      ],
      "source": [
        "memory = 0\n",
        "x = 1000\n",
        "while(memory <=5):\n",
        "  x += 100\n",
        "  loans_pd = pd.read_csv('https://bit.ly/3H2XVgC', nrows=x,)\n",
        "  memory = loans_pd.memory_usage(deep=True).sum()/(1024*1024)\n",
        "\n",
        "print('near 5MB no or rows is ', (x - 100 ))\n",
        "print('memory',memory)\n",
        "x=3200"
      ]
    },
    {
      "cell_type": "markdown",
      "metadata": {
        "id": "StemrBe2wkMj"
      },
      "source": [
        "## 2. Exploring the Data in Chunks"
      ]
    },
    {
      "cell_type": "markdown",
      "metadata": {
        "id": "dm4p982Dwor5"
      },
      "source": [
        "Let's familiarize ourselves with the columns to see which ones we can optimize. In the first lesson, we explored column types by reading in the full dataframe. In this project, let's try to understand the column types better while using dataframe chunks.\n",
        "\n",
        "**Tasks**\n",
        "\n",
        "For each chunk:\n",
        "* How many columns have a numeric type? \n",
        "* How many have a string type?\n",
        "* How many unique values are there in each string column? How many of the string columns contain values that are less than 50% unique?\n",
        "* Which float columns have no missing values and could be candidates for conversion to the integer type?\n",
        "* Calculate the total memory usage across all of the chunks."
      ]
    },
    {
      "cell_type": "code",
      "execution_count": 17,
      "metadata": {
        "colab": {
          "base_uri": "https://localhost:8080/"
        },
        "id": "rjTUXAnJwzdx",
        "outputId": "35558ed4-daf9-4ddb-e618-0483aec35f16"
      },
      "outputs": [
        {
          "output_type": "stream",
          "name": "stdout",
          "text": [
            "<class 'pandas.core.frame.DataFrame'>\n",
            "RangeIndex: 3300 entries, 0 to 3299\n",
            "Data columns (total 52 columns):\n",
            " #   Column                      Non-Null Count  Dtype  \n",
            "---  ------                      --------------  -----  \n",
            " 0   id                          3300 non-null   int64  \n",
            " 1   member_id                   3300 non-null   float64\n",
            " 2   loan_amnt                   3300 non-null   float64\n",
            " 3   funded_amnt                 3300 non-null   float64\n",
            " 4   funded_amnt_inv             3300 non-null   float64\n",
            " 5   term                        3300 non-null   object \n",
            " 6   int_rate                    3300 non-null   object \n",
            " 7   installment                 3300 non-null   float64\n",
            " 8   grade                       3300 non-null   object \n",
            " 9   sub_grade                   3300 non-null   object \n",
            " 10  emp_title                   3107 non-null   object \n",
            " 11  emp_length                  3205 non-null   object \n",
            " 12  home_ownership              3300 non-null   object \n",
            " 13  annual_inc                  3300 non-null   float64\n",
            " 14  verification_status         3300 non-null   object \n",
            " 15  issue_d                     3300 non-null   object \n",
            " 16  loan_status                 3300 non-null   object \n",
            " 17  pymnt_plan                  3300 non-null   object \n",
            " 18  purpose                     3300 non-null   object \n",
            " 19  title                       3300 non-null   object \n",
            " 20  zip_code                    3300 non-null   object \n",
            " 21  addr_state                  3300 non-null   object \n",
            " 22  dti                         3300 non-null   float64\n",
            " 23  delinq_2yrs                 3300 non-null   float64\n",
            " 24  earliest_cr_line            3300 non-null   object \n",
            " 25  inq_last_6mths              3300 non-null   float64\n",
            " 26  open_acc                    3300 non-null   float64\n",
            " 27  pub_rec                     3300 non-null   float64\n",
            " 28  revol_bal                   3300 non-null   float64\n",
            " 29  revol_util                  3300 non-null   object \n",
            " 30  total_acc                   3300 non-null   float64\n",
            " 31  initial_list_status         3300 non-null   object \n",
            " 32  out_prncp                   3300 non-null   float64\n",
            " 33  out_prncp_inv               3300 non-null   float64\n",
            " 34  total_pymnt                 3300 non-null   float64\n",
            " 35  total_pymnt_inv             3300 non-null   float64\n",
            " 36  total_rec_prncp             3300 non-null   float64\n",
            " 37  total_rec_int               3300 non-null   float64\n",
            " 38  total_rec_late_fee          3300 non-null   float64\n",
            " 39  recoveries                  3300 non-null   float64\n",
            " 40  collection_recovery_fee     3300 non-null   float64\n",
            " 41  last_pymnt_d                3298 non-null   object \n",
            " 42  last_pymnt_amnt             3300 non-null   float64\n",
            " 43  last_credit_pull_d          3300 non-null   object \n",
            " 44  collections_12_mths_ex_med  3300 non-null   float64\n",
            " 45  policy_code                 3300 non-null   float64\n",
            " 46  application_type            3300 non-null   object \n",
            " 47  acc_now_delinq              3300 non-null   float64\n",
            " 48  chargeoff_within_12_mths    3300 non-null   float64\n",
            " 49  delinq_amnt                 3300 non-null   float64\n",
            " 50  pub_rec_bankruptcies        3300 non-null   float64\n",
            " 51  tax_liens                   3300 non-null   float64\n",
            "dtypes: float64(30), int64(1), object(21)\n",
            "memory usage: 1.3+ MB\n"
          ]
        }
      ],
      "source": [
        "#How many columns have a numeric type?\n",
        "chunk  =  3200\n",
        "\n",
        "loans_pd.info()\n"
      ]
    },
    {
      "cell_type": "markdown",
      "metadata": {
        "id": "dnHjzjfqBYay"
      },
      "source": [
        "\n",
        "\n",
        "\n",
        "*  31  columns have numeric type\n",
        "*  21 colums have string type \n",
        "\n"
      ]
    },
    {
      "cell_type": "code",
      "execution_count": 6,
      "metadata": {
        "colab": {
          "base_uri": "https://localhost:8080/"
        },
        "id": "1zPnoIxYCZxV",
        "outputId": "b73c4f1f-09d6-41f3-cbd2-6168330205f2"
      },
      "outputs": [
        {
          "output_type": "stream",
          "name": "stdout",
          "text": [
            "BlockManager\n",
            "Items: Index(['id', 'member_id', 'loan_amnt', 'funded_amnt', 'funded_amnt_inv',\n",
            "       'term', 'int_rate', 'installment', 'grade', 'sub_grade', 'emp_title',\n",
            "       'emp_length', 'home_ownership', 'annual_inc', 'verification_status',\n",
            "       'issue_d', 'loan_status', 'pymnt_plan', 'purpose', 'title', 'zip_code',\n",
            "       'addr_state', 'dti', 'delinq_2yrs', 'earliest_cr_line',\n",
            "       'inq_last_6mths', 'open_acc', 'pub_rec', 'revol_bal', 'revol_util',\n",
            "       'total_acc', 'initial_list_status', 'out_prncp', 'out_prncp_inv',\n",
            "       'total_pymnt', 'total_pymnt_inv', 'total_rec_prncp', 'total_rec_int',\n",
            "       'total_rec_late_fee', 'recoveries', 'collection_recovery_fee',\n",
            "       'last_pymnt_d', 'last_pymnt_amnt', 'last_credit_pull_d',\n",
            "       'collections_12_mths_ex_med', 'policy_code', 'application_type',\n",
            "       'acc_now_delinq', 'chargeoff_within_12_mths', 'delinq_amnt',\n",
            "       'pub_rec_bankruptcies', 'tax_liens'],\n",
            "      dtype='object')\n",
            "Axis 1: RangeIndex(start=0, stop=1000, step=1)\n",
            "NumericBlock: slice(0, 1, 1), 1 x 1000, dtype: int64\n",
            "NumericBlock: [ 1  2  3  4  7 13 22 23 25 26 27 28 30 32 33 34 35 36 37 38 39 40 42 44\n",
            " 45 47 48 49 50 51], 30 x 1000, dtype: float64\n",
            "ObjectBlock: [ 5  6  8  9 10 11 12 14 15 16 17 18 19 20 21 24 29 31 41 43 46], 21 x 1000, dtype: object\n"
          ]
        }
      ],
      "source": [
        "print(loans_pd._data)"
      ]
    },
    {
      "cell_type": "code",
      "execution_count": null,
      "metadata": {
        "colab": {
          "base_uri": "https://localhost:8080/"
        },
        "id": "eI2DCFIDJdVN",
        "outputId": "ce2d883f-d2c7-4504-a2e6-54f78503f7b4"
      },
      "outputs": [
        {
          "data": {
            "text/plain": [
              "171600"
            ]
          },
          "execution_count": 10,
          "metadata": {},
          "output_type": "execute_result"
        }
      ],
      "source": [
        "loans_pd.size"
      ]
    },
    {
      "cell_type": "code",
      "execution_count": 18,
      "metadata": {
        "colab": {
          "base_uri": "https://localhost:8080/"
        },
        "id": "R6tFYO9uKTnf",
        "outputId": "35ef2908-e6f8-44b4-f90d-f784a02ca38c"
      },
      "outputs": [
        {
          "output_type": "stream",
          "name": "stdout",
          "text": [
            "Index                            128\n",
            "id                             26400\n",
            "member_id                      26400\n",
            "loan_amnt                      26400\n",
            "funded_amnt                    26400\n",
            "funded_amnt_inv                26400\n",
            "term                          221100\n",
            "int_rate                      211200\n",
            "installment                    26400\n",
            "grade                         191400\n",
            "sub_grade                     194700\n",
            "emp_title                     241349\n",
            "emp_length                    209871\n",
            "home_ownership                206117\n",
            "annual_inc                     26400\n",
            "verification_status           225726\n",
            "issue_d                       214500\n",
            "loan_status                   220958\n",
            "pymnt_plan                    191400\n",
            "purpose                       235249\n",
            "title                         242073\n",
            "zip_code                      204600\n",
            "addr_state                    194700\n",
            "dti                            26400\n",
            "delinq_2yrs                    26400\n",
            "earliest_cr_line              214500\n",
            "inq_last_6mths                 26400\n",
            "open_acc                       26400\n",
            "pub_rec                        26400\n",
            "revol_bal                      26400\n",
            "revol_util                    203750\n",
            "total_acc                      26400\n",
            "initial_list_status           191400\n",
            "out_prncp                      26400\n",
            "out_prncp_inv                  26400\n",
            "total_pymnt                    26400\n",
            "total_pymnt_inv                26400\n",
            "total_rec_prncp                26400\n",
            "total_rec_int                  26400\n",
            "total_rec_late_fee             26400\n",
            "recoveries                     26400\n",
            "collection_recovery_fee        26400\n",
            "last_pymnt_d                  214434\n",
            "last_pymnt_amnt                26400\n",
            "last_credit_pull_d            214500\n",
            "collections_12_mths_ex_med     26400\n",
            "policy_code                    26400\n",
            "application_type              221100\n",
            "acc_now_delinq                 26400\n",
            "chargeoff_within_12_mths       26400\n",
            "delinq_amnt                    26400\n",
            "pub_rec_bankruptcies           26400\n",
            "tax_liens                      26400\n",
            "dtype: int64\n"
          ]
        }
      ],
      "source": [
        "print(loans_pd.memory_usage(deep=True))"
      ]
    },
    {
      "cell_type": "code",
      "source": [
        "\n",
        "ln_inter = pd.read_csv(\"https://bit.ly/3H2XVgC\", chunksize = 3200)\n",
        "\n",
        "percent = []\n",
        "for x in ln_inter:\n",
        "  x[\"id\"] = pd.to_numeric(x[\"id\"], errors = \"coerce\")\n",
        "  x = x.dropna(axis = 0, subset = [\"id\"])\n",
        "  string_unique = x.select_dtypes(include=[\"object\"]).nunique()\n",
        "  tt_string_column = x.select_dtypes(include=[\"object\"]).count()\n",
        "  percent.append((100*string_unique/tt_string_column))\n",
        "  T_unique = pd.concat(percentage)\n",
        "  T_unique = T_unique.groupby(T_unique.index).mean()\n",
        "  category_string_columns = list((T_unique[T_unique<50]).index)\n",
        "\n",
        "print(\"unique value percent:\\n \" ,unique_total)\n",
        "\n"
      ],
      "metadata": {
        "colab": {
          "base_uri": "https://localhost:8080/"
        },
        "id": "kAgR3j1U0uP4",
        "outputId": "f9318f43-430c-4c66-d705-4458930a9605"
      },
      "execution_count": 51,
      "outputs": [
        {
          "output_type": "stream",
          "name": "stdout",
          "text": [
            "unique value percent:\n",
            "  addr_state              1.625264\n",
            "application_type        0.036650\n",
            "earliest_cr_line       13.297662\n",
            "emp_length              0.411967\n",
            "emp_title              92.622973\n",
            "grade                   0.256549\n",
            "home_ownership          0.136374\n",
            "initial_list_status     0.036650\n",
            "int_rate                2.836398\n",
            "issue_d                 0.326915\n",
            "last_credit_pull_d      2.786660\n",
            "last_pymnt_d            2.185464\n",
            "loan_status             0.129105\n",
            "purpose                 0.489841\n",
            "pymnt_plan              0.038882\n",
            "revol_util             32.334291\n",
            "sub_grade               1.278279\n",
            "term                    0.061204\n",
            "title                  64.273123\n",
            "verification_status     0.102318\n",
            "zip_code               19.489020\n",
            "dtype: float64\n"
          ]
        }
      ]
    },
    {
      "cell_type": "markdown",
      "metadata": {
        "id": "8BtAVP8fw3OH"
      },
      "source": [
        "## 3. Optimizing String Columns"
      ]
    },
    {
      "cell_type": "markdown",
      "metadata": {
        "id": "ZkWArHAhw_bw"
      },
      "source": [
        "We can achieve the greatest memory improvements by converting the string columns to a numeric type. Let's convert all of the columns where the values are less than 50% unique to the category type, and the columns that contain numeric values to the `float` type.\n",
        "\n",
        "While working with dataframe chunks:\n",
        "* Determine which string columns you can convert to a numeric type if you clean them. For example, the `int_rate` column is only a string because of the % sign at the end.\n",
        "* Determine which columns have a few unique values and convert them to the category type. For example, you may want to convert the grade and `sub_grade` columns.\n",
        "Based on your conclusions, perform the necessary type changes across all chunks. * Calculate the total memory footprint, and compare it with the previous one."
      ]
    },
    {
      "cell_type": "code",
      "source": [
        "ln_iter = pd.read_csv(\"https://bit.ly/3H2XVgC\", chunksize = 2000)\n",
        "memory_A = []\n",
        "for x in ln_iter:\n",
        "  memory_A.append(x.memory_usage(deep=True).sum()/(1024**2))\n",
        "total_memory =  sum(memory_A)\n",
        "print(\"total memory usage in MB:\" ,total_memory)\n",
        "\n"
      ],
      "metadata": {
        "colab": {
          "base_uri": "https://localhost:8080/"
        },
        "id": "1p5ajm8aV-Zi",
        "outputId": "71e3393a-6729-49e0-9682-1b1f7c7457f3"
      },
      "execution_count": 76,
      "outputs": [
        {
          "output_type": "stream",
          "name": "stdout",
          "text": [
            "total memory usage in MB: 65.19094562530518\n"
          ]
        }
      ]
    },
    {
      "cell_type": "code",
      "execution_count": 94,
      "metadata": {
        "colab": {
          "base_uri": "https://localhost:8080/"
        },
        "id": "FH0tcQlpxG9s",
        "outputId": "7dad77bc-a8b0-4f7a-9db2-8ba879a897a6"
      },
      "outputs": [
        {
          "output_type": "stream",
          "name": "stdout",
          "text": [
            " after column optimization\n",
            " 60.50395584106445\n"
          ]
        }
      ],
      "source": [
        "# Your code goes here\n",
        "\n",
        "ln_iter = pd.read_csv('https://bit.ly/3H2XVgC', chunksize=3200,)\n",
        "string_memory = []\n",
        "for x in ln_iter: \n",
        "  x['int_rate'] = x['int_rate'].str.replace('%', '').astype('float')\n",
        "  x['revol_util'] = x['revol_util'].str.replace('%', '').astype('float')\n",
        "  x['int_rate'] = pd.to_numeric(x['int_rate'], downcast='float')\n",
        "  x['revol_util'] = pd.to_numeric(x['revol_util'], downcast='float') \n",
        " \n",
        "  string_memory.append(x.memory_usage(deep=True))\n",
        "\n",
        "total_string = pd.concat(string_memory).sum()/(1024*1024)\n",
        "print(\" after column optimization in MB \\n\",total_string)\n"
      ]
    },
    {
      "cell_type": "markdown",
      "source": [
        "**Conclusion:**\n",
        "memory usage after  column optimization reduced by 5MB"
      ],
      "metadata": {
        "id": "pXt825fcoJtr"
      }
    },
    {
      "cell_type": "markdown",
      "metadata": {
        "id": "22oYzgXnxIcV"
      },
      "source": [
        "## 4. Optimizing Numeric Columns"
      ]
    },
    {
      "cell_type": "markdown",
      "metadata": {
        "id": "bv5C20YrxPID"
      },
      "source": [
        "It looks like we were able to realize some powerful memory savings by converting to the category type and converting string columns to numeric ones.\n",
        "\n",
        "Now let's optimize the numeric columns using the `pandas.to_numeric()` function.\n",
        "\n",
        "**Tasks**\n",
        "\n",
        "While working with dataframe chunks:\n",
        "* Identify float columns that contain missing values, and that we can convert to a more space efficient subtype.\n",
        "* Identify float columns that don't contain any missing values, and that we can convert to the integer type because they represent whole numbers.\n",
        "* Based on your conclusions, perform the necessary type changes across all chunks.\n",
        "* Calculate the total memory footprint and compare it with the previous one.\n",
        "\n",
        "\n"
      ]
    },
    {
      "cell_type": "code",
      "source": [
        "ln_iter = pd.read_csv('https://bit.ly/3H2XVgC', chunksize=3200,)\n",
        "\n",
        "optimized_usage = []\n",
        "for x in ln_iter:\n",
        "  \n",
        "  x['id'] = pd.to_numeric(x['id'], errors='coerce') \n",
        "  x = chunk.dropna(axis=0, subset=['id'])\n",
        "  optimized_usage.append(x.memory_usage(deep=True))\n",
        "\n",
        "#sum up the memory usage\n",
        "total_optimized= pd.concat(optimized_usage).sum()/(1024*1024)\n",
        "\n",
        "print(\"usage after optimization in MB\\n\" ,total_optimized)\n"
      ],
      "metadata": {
        "colab": {
          "base_uri": "https://localhost:8080/"
        },
        "id": "jVRI6krHodl5",
        "outputId": "993ed3cf-3bc7-42be-f947-84a0feb63eb2"
      },
      "execution_count": 107,
      "outputs": [
        {
          "output_type": "stream",
          "name": "stdout",
          "text": [
            "usage after optimization in MB\n",
            " 19.47215461730957\n"
          ]
        }
      ]
    },
    {
      "cell_type": "markdown",
      "source": [
        "Conclusion \n",
        "\n",
        "in comparison Numeric  optimization is better than  string optimization as it uses less memory"
      ],
      "metadata": {
        "id": "vYKrlYdhuZBB"
      }
    }
  ],
  "metadata": {
    "colab": {
      "collapsed_sections": [
        "y7eHGTSKv8TW",
        "ZJ7UJlKnwJk3",
        "StemrBe2wkMj",
        "8BtAVP8fw3OH",
        "22oYzgXnxIcV",
        "DMJVaj_kxj42"
      ],
      "provenance": [],
      "toc_visible": true
    },
    "kernelspec": {
      "display_name": "Python 3",
      "name": "python3"
    },
    "language_info": {
      "name": "python"
    }
  },
  "nbformat": 4,
  "nbformat_minor": 0
}